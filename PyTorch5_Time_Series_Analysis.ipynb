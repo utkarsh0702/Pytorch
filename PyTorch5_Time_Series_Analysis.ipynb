{
  "nbformat": 4,
  "nbformat_minor": 0,
  "metadata": {
    "colab": {
      "name": "PyTorch5_Time_Series_Analysis.ipynb",
      "provenance": [],
      "collapsed_sections": [],
      "authorship_tag": "ABX9TyMpkVYGxmfqzBn8TRcBhCGi",
      "include_colab_link": true
    },
    "kernelspec": {
      "name": "python3",
      "display_name": "Python 3"
    }
  },
  "cells": [
    {
      "cell_type": "markdown",
      "metadata": {
        "id": "view-in-github",
        "colab_type": "text"
      },
      "source": [
        "<a href=\"https://colab.research.google.com/github/utkarsh0702/Pytorch/blob/master/PyTorch5_Time_Series_Analysis.ipynb\" target=\"_parent\"><img src=\"https://colab.research.google.com/assets/colab-badge.svg\" alt=\"Open In Colab\"/></a>"
      ]
    },
    {
      "cell_type": "code",
      "metadata": {
        "id": "0RjbvP2_YxhZ",
        "colab_type": "code",
        "colab": {}
      },
      "source": [
        "import torch\n",
        "from torch import nn\n",
        "import numpy as np\n",
        "import matplotlib.pyplot as plt"
      ],
      "execution_count": 0,
      "outputs": []
    },
    {
      "cell_type": "code",
      "metadata": {
        "id": "EiQq58NVZ0WV",
        "colab_type": "code",
        "colab": {
          "base_uri": "https://localhost:8080/",
          "height": 374
        },
        "outputId": "1c1b785e-935e-4a1f-c3b1-bb26ba83f9be"
      },
      "source": [
        "plt.figure(figsize=(8, 6))\n",
        "seq_length= 20\n",
        "time_step= np.linspace(0, np.pi, seq_length+1)\n",
        "data= np.sin(time_step)\n",
        "data.resize((seq_length+1,1))\n",
        "\n",
        "x= data[:-1]\n",
        "y= data[1:]\n",
        "\n",
        "plt.plot(time_step[1:], x, \"r.\", label=\"Input(x)\")\n",
        "plt.plot(time_step[1:], y, \"b.\", label=\"Target(y)\")\n",
        "plt.show()"
      ],
      "execution_count": 3,
      "outputs": [
        {
          "output_type": "display_data",
          "data": {
            "image/png": "[encoded data removed]",
            "text/plain": [
              "<Figure size 576x432 with 1 Axes>"
            ]
          },
          "metadata": {
            "tags": [],
            "needs_background": "light"
          }
        }
      ]
    },
    {
      "cell_type": "code",
      "metadata": {
        "id": "55jrr27BbQNV",
        "colab_type": "code",
        "colab": {}
      },
      "source": [
        "class RNN(nn.Module):\n",
        "  def __init__(self, input_size, output_size, hidden_dim, n_layers):\n",
        "    super(RNN, self).__init__()\n",
        "    self.hidden_dim= hidden_dim\n",
        "\n",
        "    self.rnn= nn.RNN(input_size, hidden_dim, n_layers, batch_first=True)\n",
        "    self.fc= nn.Linear(hidden_dim, output_size)\n",
        "  \n",
        "  def forward(self, x, hidden):\n",
        "    batch_size= x.size(0)\n",
        "    r_out, hidden= self.rnn(x, hidden)\n",
        "    r_out= r_out.view(-1, self.hidden_dim)\n",
        "\n",
        "    output= self.fc(r_out)\n",
        "    return output, hidden"
      ],
      "execution_count": 0,
      "outputs": []
    },
    {
      "cell_type": "code",
      "metadata": {
        "id": "3Q-IU6LfdOuD",
        "colab_type": "code",
        "colab": {
          "base_uri": "https://localhost:8080/",
          "height": 68
        },
        "outputId": "b2d76694-2f3e-47cb-e2cc-f7a8d5c88885"
      },
      "source": [
        "#Test the RNN for Shape and Size\n",
        "test_rnn= RNN(input_size=1, output_size=1, hidden_dim=10, n_layers=2)\n",
        "\n",
        "#Evenly spaced test data points\n",
        "time_step= np.linspace(0, np.pi, seq_length)\n",
        "data= np.sin(time_step)\n",
        "data.resize((seq_length,1))\n",
        "\n",
        "test_input= torch.Tensor(data).unsqueeze(0)\n",
        "print('Input Size:', test_input.size())\n",
        "\n",
        "test_out, test_h= test_rnn(test_input, None)\n",
        "print('Output Size:', test_out.size())\n",
        "print('Hidden State Size:', test_h.size())"
      ],
      "execution_count": 17,
      "outputs": [
        {
          "output_type": "stream",
          "text": [
            "Input Size: torch.Size([1, 20, 1])\n",
            "Output Size: torch.Size([20, 1])\n",
            "Hidden State Size: torch.Size([2, 1, 10])\n"
          ],
          "name": "stdout"
        }
      ]
    },
    {
      "cell_type": "code",
      "metadata": {
        "id": "QVYOEM9zeggE",
        "colab_type": "code",
        "colab": {
          "base_uri": "https://localhost:8080/",
          "height": 85
        },
        "outputId": "e61ac336-1023-4ad8-aff4-b63d50587265"
      },
      "source": [
        "#Instansiate an RNN\n",
        "rnn= RNN(1,1,32,1)\n",
        "print(rnn)\n",
        "loss_function= nn.MSELoss()\n",
        "optimizer= torch.optim.Adam(rnn.parameters(), lr=0.01)"
      ],
      "execution_count": 18,
      "outputs": [
        {
          "output_type": "stream",
          "text": [
            "RNN(\n",
            "  (rnn): RNN(1, 32, batch_first=True)\n",
            "  (fc): Linear(in_features=32, out_features=1, bias=True)\n",
            ")\n"
          ],
          "name": "stdout"
        }
      ]
    },
    {
      "cell_type": "code",
      "metadata": {
        "id": "nm0Cy0cjfQNF",
        "colab_type": "code",
        "colab": {}
      },
      "source": [
        "def train(rnn, n_steps, print_every):\n",
        "  hidden= None\n",
        "  for i, step in enumerate(range(n_steps)):\n",
        "    time_steps= np.linspace(step*np.pi, (step+1)*np.pi, seq_length+1)\n",
        "    data= np.sin(time_steps)\n",
        "    data.resize((seq_length+1,1))\n",
        "\n",
        "    x= data[:-1]\n",
        "    y= data[1:]\n",
        "    x_tensor= torch.Tensor(x).unsqueeze(0)\n",
        "    y_tensor= torch.Tensor(y)\n",
        "\n",
        "    prediction, hidden= rnn(x_tensor, hidden)\n",
        "    hidden= hidden.data\n",
        "    loss= loss_function(prediction, y_tensor)\n",
        "    optimizer.zero_grad()\n",
        "    loss.backward()\n",
        "    optimizer.step()\n",
        "\n",
        "    if i% print_every ==0:\n",
        "      print('Loss:', loss.item())\n",
        "      plt.figure()\n",
        "      plt.plot(time_steps[1:],x,'r.')\n",
        "      plt.plot(time_steps[1:],prediction.data.numpy().flatten(),'b.')\n",
        "      plt.plot()\n",
        "  \n",
        "  return rnn"
      ],
      "execution_count": 0,
      "outputs": []
    },
    {
      "cell_type": "code",
      "metadata": {
        "id": "wMP19003iXPU",
        "colab_type": "code",
        "colab": {
          "base_uri": "https://localhost:8080/",
          "height": 1000
        },
        "outputId": "dd942db8-ec8a-4765-b463-629b31059d1c"
      },
      "source": [
        "n_steps=75\n",
        "print_every=15\n",
        "trained_rnn= train(rnn, n_steps, print_every)"
      ],
      "execution_count": 20,
      "outputs": [
        {
          "output_type": "stream",
          "text": [
            "Loss: 0.33332115411758423\n",
            "Loss: 0.015161627903580666\n",
            "Loss: 0.0007780947489663959\n",
            "Loss: 0.00039236946031451225\n",
            "Loss: 0.0005042075063101947\n"
          ],
          "name": "stdout"
        },
        {
          "output_type": "display_data",
          "data": {
            "image/png": "[encoded data removed]",
            "text/plain": [
              "<Figure size 432x288 with 1 Axes>"
            ]
          },
          "metadata": {
            "tags": [],
            "needs_background": "light"
          }
        },
        {
          "output_type": "display_data",
          "data": {
            "image/png": "[encoded data removed]",
            "text/plain": [
              "<Figure size 432x288 with 1 Axes>"
            ]
          },
          "metadata": {
            "tags": [],
            "needs_background": "light"
          }
        },
        {
          "output_type": "display_data",
          "data": {
            "image/png": "[encoded data removed]",
            "text/plain": [
              "<Figure size 432x288 with 1 Axes>"
            ]
          },
          "metadata": {
            "tags": [],
            "needs_background": "light"
          }
        },
        {
          "output_type": "display_data",
          "data": {
            "image/png": "[encoded data removed]",
            "text/plain": [
              "<Figure size 432x288 with 1 Axes>"
            ]
          },
          "metadata": {
            "tags": [],
            "needs_background": "light"
          }
        },
        {
          "output_type": "display_data",
          "data": {
            "image/png": "[encoded data removed]",
            "text/plain": [
              "<Figure size 432x288 with 1 Axes>"
            ]
          },
          "metadata": {
            "tags": [],
            "needs_background": "light"
          }
        }
      ]
    },
    {
      "cell_type": "code",
      "metadata": {
        "id": "jqJOOOLsinEj",
        "colab_type": "code",
        "colab": {}
      },
      "source": [
        ""
      ],
      "execution_count": 0,
      "outputs": []
    }
  ]
}