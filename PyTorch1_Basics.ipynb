{
  "nbformat": 4,
  "nbformat_minor": 0,
  "metadata": {
    "colab": {
      "name": "PyTorch1_Basics.ipynb",
      "provenance": [],
      "collapsed_sections": [],
      "authorship_tag": "ABX9TyOtAcaJLwVNSQJLcDXShA3S",
      "include_colab_link": true
    },
    "kernelspec": {
      "name": "python3",
      "display_name": "Python 3"
    }
  },
  "cells": [
    {
      "cell_type": "markdown",
      "metadata": {
        "id": "view-in-github",
        "colab_type": "text"
      },
      "source": [
        "<a href=\"https://colab.research.google.com/github/utkarsh0702/Pytorch/blob/master/PyTorch1_Basics.ipynb\" target=\"_parent\"><img src=\"https://colab.research.google.com/assets/colab-badge.svg\" alt=\"Open In Colab\"/></a>"
      ]
    },
    {
      "cell_type": "code",
      "metadata": {
        "id": "YIgWVWLTtZCd",
        "colab_type": "code",
        "colab": {}
      },
      "source": [
        "import torch\n",
        "import numpy as np"
      ],
      "execution_count": 0,
      "outputs": []
    },
    {
      "cell_type": "markdown",
      "metadata": {
        "id": "ENUnBol4XaSa",
        "colab_type": "text"
      },
      "source": [
        "# Single Percepton\n",
        "![alt text](https://drive.google.com/uc?id=1LcaisliDbq-rpXH5t3L_YrBGmG1veF86)\n",
        "![alt text](https://drive.google.com/uc?id=15uAUKaZJOVryWbTBpoQ2LUQZj8ZiJSdA)"
      ]
    },
    {
      "cell_type": "code",
      "metadata": {
        "id": "hh23zp3htluR",
        "colab_type": "code",
        "colab": {}
      },
      "source": [
        "def activation(z):\n",
        "  # Sigmoid activation\n",
        "  return 1/(1+torch.exp(-z))"
      ],
      "execution_count": 0,
      "outputs": []
    },
    {
      "cell_type": "code",
      "metadata": {
        "id": "mZs8E8tRlEPy",
        "colab_type": "code",
        "colab": {}
      },
      "source": [
        "torch.manual_seed(7)\n",
        "# to keep the number predictable and near to each other\n",
        "\n",
        "features= torch.randn((1,5))  #shape [1,5]\n",
        "weights= torch.randn_like(features)  #shape [1,5]\n",
        "bias= torch.randn((1,1))  #shape [1,1]"
      ],
      "execution_count": 0,
      "outputs": []
    },
    {
      "cell_type": "code",
      "metadata": {
        "id": "s5VGdynYlEMd",
        "colab_type": "code",
        "outputId": "83ff48b1-1144-48ea-8a55-7fb9367cf2e9",
        "colab": {
          "base_uri": "https://localhost:8080/",
          "height": 34
        }
      },
      "source": [
        "#reshaping the weight tensor to match the shape for multiplication\n",
        "weights= weights.reshape((5,1))  #shape [5,1]\n",
        "\n",
        "y= torch.matmul(features, weights)+ bias  #shape multiplication_of([1,5], [5,1]) +[1,1]\n",
        "\n",
        "#Applying the activation\n",
        "y= activation(y)\n",
        "print('Output: ',y)"
      ],
      "execution_count": 4,
      "outputs": [
        {
          "output_type": "stream",
          "text": [
            "Output:  tensor([[0.1595]])\n"
          ],
          "name": "stdout"
        }
      ]
    },
    {
      "cell_type": "markdown",
      "metadata": {
        "id": "HRDfPER8jdLv",
        "colab_type": "text"
      },
      "source": [
        "# Single Hidden Layered NN\n",
        "![alt text](https://drive.google.com/uc?id=1pUsns0mlkuPakmzNltEKG1Fbf6rStxEW)\n",
        "![alt text](https://drive.google.com/uc?id=1Jdvcl1nviHj2xNUxMt-vEfM7IY5Vlktt)"
      ]
    },
    {
      "cell_type": "code",
      "metadata": {
        "id": "EpstWPw6j52v",
        "colab_type": "code",
        "colab": {}
      },
      "source": [
        "# W1= [[W11 W12],[W21 W22],[W31 W32]]\n",
        "# W2= [W11 W21]\n",
        "# b1= [b11 b21]\n",
        "# b2= [b11]\n",
        "\n",
        "torch.manual_seed(7)\n",
        "features= torch.randn((1,3))\n",
        "\n",
        "#Defining the size of each layer\n",
        "n_input= features.shape[1]\n",
        "n_hidden=2\n",
        "n_output=1\n",
        "\n",
        "W1= torch.randn((n_input,n_hidden))\n",
        "W2= torch.randn((n_hidden, n_output))\n",
        "\n",
        "b1= torch.randn((1, n_hidden))\n",
        "b2= torch.randn((1,n_output))"
      ],
      "execution_count": 0,
      "outputs": []
    },
    {
      "cell_type": "code",
      "metadata": {
        "id": "en9ZjfgXo05O",
        "colab_type": "code",
        "outputId": "666cf7f5-9421-4c4b-d9f0-9c21de93afb5",
        "colab": {
          "base_uri": "https://localhost:8080/",
          "height": 34
        }
      },
      "source": [
        "h= torch.matmul(features, W1)+ b1  #shape multiplication_of([1,3], [3,2]) +[1,2]\n",
        "h= activation(h)       # shape [1,2]\n",
        "\n",
        "y= torch.matmul(h, W2)+ b2  #shape multiplication_of([1,2], [2,1]) +[1,1]\n",
        "y= activation(y)\n",
        "\n",
        "print('Output: ',y)"
      ],
      "execution_count": 6,
      "outputs": [
        {
          "output_type": "stream",
          "text": [
            "Output:  tensor([[0.3171]])\n"
          ],
          "name": "stdout"
        }
      ]
    },
    {
      "cell_type": "code",
      "metadata": {
        "id": "lDsTKhnSq5zG",
        "colab_type": "code",
        "colab": {}
      },
      "source": [
        ""
      ],
      "execution_count": 0,
      "outputs": []
    }
  ]
}